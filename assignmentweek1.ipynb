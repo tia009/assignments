{
 "cells": [
  {
   "cell_type": "code",
   "execution_count": 1,
   "id": "9442779d-6145-477d-b070-ed08d081f6b0",
   "metadata": {},
   "outputs": [],
   "source": [
    "\n",
    "QUESTION 1"
   ]
  },
  {
   "cell_type": "code",
   "execution_count": 1,
   "id": "7b3484b5-78a2-40d3-9da8-91138120be49",
   "metadata": {},
   "outputs": [],
   "source": [
    "(i)\n"
   ]
  },
  {
   "cell_type": "code",
   "execution_count": 1,
   "id": "22e9b4ca-9827-4857-94de-5263209347a9",
   "metadata": {},
   "outputs": [],
   "source": [
    "b = \"tia\"\n"
   ]
  },
  {
   "cell_type": "code",
   "execution_count": 2,
   "id": "5091fa1b-5207-46bd-8632-1097e5d6a3b9",
   "metadata": {},
   "outputs": [
    {
     "data": {
      "text/plain": [
       "str"
      ]
     },
     "execution_count": 2,
     "metadata": {},
     "output_type": "execute_result"
    }
   ],
   "source": [
    "type(b)"
   ]
  },
  {
   "cell_type": "code",
   "execution_count": null,
   "id": "7839fce9-56c3-4ec2-897e-3c46cfa7b404",
   "metadata": {},
   "outputs": [],
   "source": [
    "(ii)"
   ]
  },
  {
   "cell_type": "code",
   "execution_count": 3,
   "id": "02b0cfbb-717a-4680-98c8-bc45e6855f37",
   "metadata": {},
   "outputs": [],
   "source": [
    "l = [2,4,5,6,\"WELCOME\" , 2.56 , True]"
   ]
  },
  {
   "cell_type": "code",
   "execution_count": 4,
   "id": "95e152f3-692d-40be-ae4a-8c37692964f1",
   "metadata": {},
   "outputs": [
    {
     "data": {
      "text/plain": [
       "list"
      ]
     },
     "execution_count": 4,
     "metadata": {},
     "output_type": "execute_result"
    }
   ],
   "source": [
    "type(l)"
   ]
  },
  {
   "cell_type": "code",
   "execution_count": null,
   "id": "4231777d-f217-4f33-9184-62814c28e0a0",
   "metadata": {},
   "outputs": [],
   "source": [
    "(iii)"
   ]
  },
  {
   "cell_type": "code",
   "execution_count": 5,
   "id": "7e2f10d5-2b28-4388-a582-a43d3440ffdd",
   "metadata": {},
   "outputs": [],
   "source": [
    "c = 2.05"
   ]
  },
  {
   "cell_type": "code",
   "execution_count": 6,
   "id": "44cef74b-048b-49b3-92b7-d8bfacac6f88",
   "metadata": {},
   "outputs": [
    {
     "data": {
      "text/plain": [
       "float"
      ]
     },
     "execution_count": 6,
     "metadata": {},
     "output_type": "execute_result"
    }
   ],
   "source": [
    "type(c)"
   ]
  },
  {
   "cell_type": "code",
   "execution_count": null,
   "id": "19de28b5-1db5-4280-94ad-3d012456ed6d",
   "metadata": {},
   "outputs": [],
   "source": [
    "(iv)"
   ]
  },
  {
   "cell_type": "code",
   "execution_count": 7,
   "id": "7ecd7e24-303c-4397-87ae-db5b894e7939",
   "metadata": {},
   "outputs": [],
   "source": [
    "d = (1.0,9.9,30)"
   ]
  },
  {
   "cell_type": "code",
   "execution_count": 8,
   "id": "f7145214-325e-423d-9adb-f4b6d565cf17",
   "metadata": {},
   "outputs": [
    {
     "data": {
      "text/plain": [
       "tuple"
      ]
     },
     "execution_count": 8,
     "metadata": {},
     "output_type": "execute_result"
    }
   ],
   "source": [
    "type(d)"
   ]
  },
  {
   "cell_type": "code",
   "execution_count": null,
   "id": "f36a6538-84fb-446b-ae6b-991f065e7ae4",
   "metadata": {},
   "outputs": [],
   "source": [
    "question 2"
   ]
  },
  {
   "cell_type": "code",
   "execution_count": 9,
   "id": "7f9aaa5f-3932-46a9-bc9b-139199b5ea53",
   "metadata": {},
   "outputs": [],
   "source": [
    "var1 = ''"
   ]
  },
  {
   "cell_type": "code",
   "execution_count": 10,
   "id": "deab29d5-fea2-4f12-ac4b-18d6be7de4a9",
   "metadata": {},
   "outputs": [
    {
     "data": {
      "text/plain": [
       "str"
      ]
     },
     "execution_count": 10,
     "metadata": {},
     "output_type": "execute_result"
    }
   ],
   "source": [
    "type(var1)"
   ]
  },
  {
   "cell_type": "code",
   "execution_count": 11,
   "id": "71aa16a5-010e-4047-ae51-de6f29f45ce9",
   "metadata": {},
   "outputs": [],
   "source": [
    "var2 = '[DS , ML , PYTHON]'"
   ]
  },
  {
   "cell_type": "code",
   "execution_count": 13,
   "id": "775fbcb4-7cc4-4cf6-9f29-d0526c7ca112",
   "metadata": {},
   "outputs": [
    {
     "data": {
      "text/plain": [
       "str"
      ]
     },
     "execution_count": 13,
     "metadata": {},
     "output_type": "execute_result"
    }
   ],
   "source": [
    "type(var2)"
   ]
  },
  {
   "cell_type": "code",
   "execution_count": 14,
   "id": "3c3a8a5d-8977-4d9f-94e4-181d36a7c104",
   "metadata": {},
   "outputs": [],
   "source": [
    "var3 = ['DS','ML','PYTHON']"
   ]
  },
  {
   "cell_type": "code",
   "execution_count": 15,
   "id": "747a01f6-a6ff-4ca6-b8e5-3ea305b39ba6",
   "metadata": {},
   "outputs": [
    {
     "data": {
      "text/plain": [
       "list"
      ]
     },
     "execution_count": 15,
     "metadata": {},
     "output_type": "execute_result"
    }
   ],
   "source": [
    "type(var3)"
   ]
  },
  {
   "cell_type": "code",
   "execution_count": 16,
   "id": "44744307-c5d1-4b19-9137-2d94f2048b70",
   "metadata": {},
   "outputs": [],
   "source": [
    "var4 = 1."
   ]
  },
  {
   "cell_type": "code",
   "execution_count": 17,
   "id": "bdd7c149-cb20-4905-806e-87c5a0ff2beb",
   "metadata": {},
   "outputs": [
    {
     "data": {
      "text/plain": [
       "float"
      ]
     },
     "execution_count": 17,
     "metadata": {},
     "output_type": "execute_result"
    }
   ],
   "source": [
    "type(var4)"
   ]
  },
  {
   "cell_type": "code",
   "execution_count": null,
   "id": "97d60daa-59c1-49a4-811f-6d0b7cfb3354",
   "metadata": {},
   "outputs": [],
   "source": [
    "question 3"
   ]
  },
  {
   "cell_type": "code",
   "execution_count": 19,
   "id": "3bbf8396-9028-4148-8fbb-0c33a73d8ed5",
   "metadata": {},
   "outputs": [
    {
     "data": {
      "text/plain": [
       "1.25"
      ]
     },
     "execution_count": 19,
     "metadata": {},
     "output_type": "execute_result"
    }
   ],
   "source": [
    "5/4"
   ]
  },
  {
   "cell_type": "code",
   "execution_count": 20,
   "id": "2d8dde84-3bd4-4e73-9fa6-904698913878",
   "metadata": {},
   "outputs": [
    {
     "data": {
      "text/plain": [
       "2"
      ]
     },
     "execution_count": 20,
     "metadata": {},
     "output_type": "execute_result"
    }
   ],
   "source": [
    "2%5"
   ]
  },
  {
   "cell_type": "code",
   "execution_count": 21,
   "id": "15a08b38-8dd7-4c62-a8ac-be0662c8e03e",
   "metadata": {},
   "outputs": [
    {
     "data": {
      "text/plain": [
       "1"
      ]
     },
     "execution_count": 21,
     "metadata": {},
     "output_type": "execute_result"
    }
   ],
   "source": [
    "5//3"
   ]
  },
  {
   "cell_type": "code",
   "execution_count": 22,
   "id": "286f1fa9-de70-480f-93fb-1d7d1086e30e",
   "metadata": {},
   "outputs": [
    {
     "data": {
      "text/plain": [
       "256"
      ]
     },
     "execution_count": 22,
     "metadata": {},
     "output_type": "execute_result"
    }
   ],
   "source": [
    "2**8"
   ]
  },
  {
   "cell_type": "code",
   "execution_count": null,
   "id": "97f89fb6-637f-4cbd-91b1-3b40c3b7eeb4",
   "metadata": {},
   "outputs": [],
   "source": [
    "question 4"
   ]
  },
  {
   "cell_type": "code",
   "execution_count": 24,
   "id": "a92ed29d-b8fd-4310-9d2c-c4fa2309f4b5",
   "metadata": {},
   "outputs": [],
   "source": [
    "l = [2,3,4,5,6,\"tia\" , \"call\" ,11.5, 23.45,True]"
   ]
  },
  {
   "cell_type": "code",
   "execution_count": 26,
   "id": "d2110b7c-0e8e-49af-82d3-e3b3d68a82d0",
   "metadata": {},
   "outputs": [
    {
     "name": "stdout",
     "output_type": "stream",
     "text": [
      "<class 'int'>\n",
      "2\n",
      "<class 'int'>\n",
      "3\n",
      "<class 'int'>\n",
      "4\n",
      "<class 'int'>\n",
      "5\n",
      "<class 'int'>\n",
      "6\n",
      "<class 'str'>\n",
      "tia\n",
      "<class 'str'>\n",
      "call\n",
      "<class 'float'>\n",
      "11.5\n",
      "<class 'float'>\n",
      "23.45\n",
      "<class 'bool'>\n",
      "True\n"
     ]
    }
   ],
   "source": [
    "for i in l :\n",
    "    print(type(i))\n",
    "    print(i)"
   ]
  },
  {
   "cell_type": "code",
   "execution_count": null,
   "id": "02ffd084-728f-4dd5-b545-890025e2e533",
   "metadata": {},
   "outputs": [],
   "source": [
    "question 5"
   ]
  },
  {
   "cell_type": "code",
   "execution_count": 2,
   "id": "3a8a8b8b-d7d3-4c93-84db-cbd307a86420",
   "metadata": {},
   "outputs": [],
   "source": [
    "def count_divisions(A,B):\n",
    "    count = 0\n",
    "    while A % B == 0:\n",
    "        A = A // B\n",
    "        count += 1\n",
    "    return count\n"
   ]
  },
  {
   "cell_type": "code",
   "execution_count": 3,
   "id": "9e510ca0-22c1-40ef-9bd2-e3eadb5df6ea",
   "metadata": {},
   "outputs": [
    {
     "name": "stdout",
     "output_type": "stream",
     "text": [
      "The number 20 is divisible by 5 1 times.\n"
     ]
    }
   ],
   "source": [
    "A = 20\n",
    "B = 5\n",
    "divisions = count_divisions(A, B)\n",
    "print(f\"The number {A} is divisible by {B} {divisions} times.\")"
   ]
  },
  {
   "cell_type": "code",
   "execution_count": null,
   "id": "e9b21b98-bf8f-4c1f-8e1d-0916b508bf1e",
   "metadata": {},
   "outputs": [],
   "source": [
    "question 6"
   ]
  },
  {
   "cell_type": "code",
   "execution_count": 4,
   "id": "969901bc-defd-4eea-9a55-3524dd8a50e7",
   "metadata": {},
   "outputs": [
    {
     "name": "stdout",
     "output_type": "stream",
     "text": [
      "1 is not divisible by 3\n",
      "2 is not divisible by 3\n",
      "3 is divisible by 3\n",
      "4 is not divisible by 3\n",
      "5 is not divisible by 3\n",
      "6 is divisible by 3\n",
      "7 is not divisible by 3\n",
      "8 is not divisible by 3\n",
      "9 is divisible by 3\n",
      "10 is not divisible by 3\n",
      "11 is not divisible by 3\n",
      "12 is divisible by 3\n",
      "13 is not divisible by 3\n",
      "14 is not divisible by 3\n",
      "15 is divisible by 3\n",
      "16 is not divisible by 3\n",
      "17 is not divisible by 3\n",
      "18 is divisible by 3\n",
      "19 is not divisible by 3\n",
      "20 is not divisible by 3\n",
      "21 is divisible by 3\n",
      "22 is not divisible by 3\n",
      "23 is not divisible by 3\n",
      "24 is divisible by 3\n",
      "25 is not divisible by 3\n"
     ]
    }
   ],
   "source": [
    "a = [ 1,2,3,4,5,6,7,8,9,10,11,12,13,14,15,16,17,18,19,20,21,22,23,24,25]\n",
    "for i in a:\n",
    "    if i % 3 == 0:\n",
    "        print(f\"{i} is divisible by 3\")\n",
    "    else:\n",
    "        print(f\"{i} is not divisible by 3\")"
   ]
  },
  {
   "cell_type": "code",
   "execution_count": null,
   "id": "0d67eda6-07dd-4867-b3e5-1cd6516b970f",
   "metadata": {},
   "outputs": [],
   "source": [
    "question 7"
   ]
  },
  {
   "cell_type": "code",
   "execution_count": 5,
   "id": "3d11ea94-cb5d-4005-bbc1-3403e31ec9ab",
   "metadata": {},
   "outputs": [
    {
     "data": {
      "text/plain": [
       "list"
      ]
     },
     "execution_count": 5,
     "metadata": {},
     "output_type": "execute_result"
    }
   ],
   "source": [
    "l = [ 1,2,3,4,5 ,'tia']\n",
    "type(l)"
   ]
  },
  {
   "cell_type": "code",
   "execution_count": 6,
   "id": "90a70627-2861-46d1-a083-b746381be9e6",
   "metadata": {},
   "outputs": [],
   "source": [
    "l[3] = 200"
   ]
  },
  {
   "cell_type": "code",
   "execution_count": 7,
   "id": "fdbb86c8-c2e2-4df2-bf35-152584dccf26",
   "metadata": {},
   "outputs": [
    {
     "data": {
      "text/plain": [
       "[1, 2, 3, 200, 5, 'tia']"
      ]
     },
     "execution_count": 7,
     "metadata": {},
     "output_type": "execute_result"
    }
   ],
   "source": [
    "l"
   ]
  },
  {
   "cell_type": "code",
   "execution_count": 8,
   "id": "b98562fc-51f2-47dd-8129-a130242d65a0",
   "metadata": {},
   "outputs": [],
   "source": [
    "a = \"1,2,3,4,5\""
   ]
  },
  {
   "cell_type": "code",
   "execution_count": 9,
   "id": "1a7f164a-79c1-424c-a62b-da4df3518c49",
   "metadata": {},
   "outputs": [
    {
     "data": {
      "text/plain": [
       "str"
      ]
     },
     "execution_count": 9,
     "metadata": {},
     "output_type": "execute_result"
    }
   ],
   "source": [
    "type(a)"
   ]
  },
  {
   "cell_type": "code",
   "execution_count": 10,
   "id": "2f781843-a2ba-41ee-8406-763018ec4009",
   "metadata": {},
   "outputs": [
    {
     "ename": "SyntaxError",
     "evalue": "cannot assign to function call here. Maybe you meant '==' instead of '='? (4164171423.py, line 1)",
     "output_type": "error",
     "traceback": [
      "\u001b[0;36m  Cell \u001b[0;32mIn[10], line 1\u001b[0;36m\u001b[0m\n\u001b[0;31m    a(3) = 200\u001b[0m\n\u001b[0m    ^\u001b[0m\n\u001b[0;31mSyntaxError\u001b[0m\u001b[0;31m:\u001b[0m cannot assign to function call here. Maybe you meant '==' instead of '='?\n"
     ]
    }
   ],
   "source": [
    "a(3) = 200"
   ]
  },
  {
   "cell_type": "code",
   "execution_count": null,
   "id": "b100679a-b694-41fd-b072-1854f87143d3",
   "metadata": {},
   "outputs": [],
   "source": []
  }
 ],
 "metadata": {
  "kernelspec": {
   "display_name": "Python 3 (ipykernel)",
   "language": "python",
   "name": "python3"
  },
  "language_info": {
   "codemirror_mode": {
    "name": "ipython",
    "version": 3
   },
   "file_extension": ".py",
   "mimetype": "text/x-python",
   "name": "python",
   "nbconvert_exporter": "python",
   "pygments_lexer": "ipython3",
   "version": "3.10.8"
  }
 },
 "nbformat": 4,
 "nbformat_minor": 5
}
